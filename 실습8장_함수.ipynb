{
 "cells": [
  {
   "cell_type": "markdown",
   "metadata": {},
   "source": [
    "파이썬 함수가 중요한 이유:\n",
    "1. scikit-learn은 모두 함수 호출이다\n",
    "2. 함수의 actual arguments, keyword arguments, default parameters를 익혀야 한다 "
   ]
  },
  {
   "cell_type": "markdown",
   "metadata": {},
   "source": [
    "8장 함수 "
   ]
  },
  {
   "cell_type": "code",
   "execution_count": 2,
   "metadata": {},
   "outputs": [
    {
     "name": "stdout",
     "output_type": "stream",
     "text": [
      "Help on function sumNumbers in module __main__:\n",
      "\n",
      "sumNumbers(numbers)\n",
      "    list의 합\n",
      "\n",
      "Help on tuple object:\n",
      "\n",
      "class tuple(object)\n",
      " |  tuple(iterable=(), /)\n",
      " |\n",
      " |  Built-in immutable sequence.\n",
      " |\n",
      " |  If no argument is given, the constructor returns an empty tuple.\n",
      " |  If iterable is specified the tuple is initialized from iterable's items.\n",
      " |\n",
      " |  If the argument is a tuple, the return value is the same object.\n",
      " |\n",
      " |  Built-in subclasses:\n",
      " |      asyncgen_hooks\n",
      " |      UnraisableHookArgs\n",
      " |\n",
      " |  Methods defined here:\n",
      " |\n",
      " |  __add__(self, value, /)\n",
      " |      Return self+value.\n",
      " |\n",
      " |  __contains__(self, key, /)\n",
      " |      Return bool(key in self).\n",
      " |\n",
      " |  __eq__(self, value, /)\n",
      " |      Return self==value.\n",
      " |\n",
      " |  __ge__(self, value, /)\n",
      " |      Return self>=value.\n",
      " |\n",
      " |  __getattribute__(self, name, /)\n",
      " |      Return getattr(self, name).\n",
      " |\n",
      " |  __getitem__(self, key, /)\n",
      " |      Return self[key].\n",
      " |\n",
      " |  __getnewargs__(self, /)\n",
      " |\n",
      " |  __gt__(self, value, /)\n",
      " |      Return self>value.\n",
      " |\n",
      " |  __hash__(self, /)\n",
      " |      Return hash(self).\n",
      " |\n",
      " |  __iter__(self, /)\n",
      " |      Implement iter(self).\n",
      " |\n",
      " |  __le__(self, value, /)\n",
      " |      Return self<=value.\n",
      " |\n",
      " |  __len__(self, /)\n",
      " |      Return len(self).\n",
      " |\n",
      " |  __lt__(self, value, /)\n",
      " |      Return self<value.\n",
      " |\n",
      " |  __mul__(self, value, /)\n",
      " |      Return self*value.\n",
      " |\n",
      " |  __ne__(self, value, /)\n",
      " |      Return self!=value.\n",
      " |\n",
      " |  __repr__(self, /)\n",
      " |      Return repr(self).\n",
      " |\n",
      " |  __rmul__(self, value, /)\n",
      " |      Return value*self.\n",
      " |\n",
      " |  count(self, value, /)\n",
      " |      Return number of occurrences of value.\n",
      " |\n",
      " |  index(self, value, start=0, stop=9223372036854775807, /)\n",
      " |      Return first index of value.\n",
      " |\n",
      " |      Raises ValueError if the value is not present.\n",
      " |\n",
      " |  ----------------------------------------------------------------------\n",
      " |  Class methods defined here:\n",
      " |\n",
      " |  __class_getitem__(...)\n",
      " |      See PEP 585\n",
      " |\n",
      " |  ----------------------------------------------------------------------\n",
      " |  Static methods defined here:\n",
      " |\n",
      " |  __new__(*args, **kwargs)\n",
      " |      Create and return a new object.  See help(type) for accurate signature.\n",
      "\n",
      "Help on list object:\n",
      "\n",
      "class list(object)\n",
      " |  list(iterable=(), /)\n",
      " |\n",
      " |  Built-in mutable sequence.\n",
      " |\n",
      " |  If no argument is given, the constructor creates a new empty list.\n",
      " |  The argument must be an iterable if specified.\n",
      " |\n",
      " |  Methods defined here:\n",
      " |\n",
      " |  __add__(self, value, /)\n",
      " |      Return self+value.\n",
      " |\n",
      " |  __contains__(self, key, /)\n",
      " |      Return bool(key in self).\n",
      " |\n",
      " |  __delitem__(self, key, /)\n",
      " |      Delete self[key].\n",
      " |\n",
      " |  __eq__(self, value, /)\n",
      " |      Return self==value.\n",
      " |\n",
      " |  __ge__(self, value, /)\n",
      " |      Return self>=value.\n",
      " |\n",
      " |  __getattribute__(self, name, /)\n",
      " |      Return getattr(self, name).\n",
      " |\n",
      " |  __getitem__(self, index, /)\n",
      " |      Return self[index].\n",
      " |\n",
      " |  __gt__(self, value, /)\n",
      " |      Return self>value.\n",
      " |\n",
      " |  __iadd__(self, value, /)\n",
      " |      Implement self+=value.\n",
      " |\n",
      " |  __imul__(self, value, /)\n",
      " |      Implement self*=value.\n",
      " |\n",
      " |  __init__(self, /, *args, **kwargs)\n",
      " |      Initialize self.  See help(type(self)) for accurate signature.\n",
      " |\n",
      " |  __iter__(self, /)\n",
      " |      Implement iter(self).\n",
      " |\n",
      " |  __le__(self, value, /)\n",
      " |      Return self<=value.\n",
      " |\n",
      " |  __len__(self, /)\n",
      " |      Return len(self).\n",
      " |\n",
      " |  __lt__(self, value, /)\n",
      " |      Return self<value.\n",
      " |\n",
      " |  __mul__(self, value, /)\n",
      " |      Return self*value.\n",
      " |\n",
      " |  __ne__(self, value, /)\n",
      " |      Return self!=value.\n",
      " |\n",
      " |  __repr__(self, /)\n",
      " |      Return repr(self).\n",
      " |\n",
      " |  __reversed__(self, /)\n",
      " |      Return a reverse iterator over the list.\n",
      " |\n",
      " |  __rmul__(self, value, /)\n",
      " |      Return value*self.\n",
      " |\n",
      " |  __setitem__(self, key, value, /)\n",
      " |      Set self[key] to value.\n",
      " |\n",
      " |  __sizeof__(self, /)\n",
      " |      Return the size of the list in memory, in bytes.\n",
      " |\n",
      " |  append(self, object, /)\n",
      " |      Append object to the end of the list.\n",
      " |\n",
      " |  clear(self, /)\n",
      " |      Remove all items from list.\n",
      " |\n",
      " |  copy(self, /)\n",
      " |      Return a shallow copy of the list.\n",
      " |\n",
      " |  count(self, value, /)\n",
      " |      Return number of occurrences of value.\n",
      " |\n",
      " |  extend(self, iterable, /)\n",
      " |      Extend list by appending elements from the iterable.\n",
      " |\n",
      " |  index(self, value, start=0, stop=9223372036854775807, /)\n",
      " |      Return first index of value.\n",
      " |\n",
      " |      Raises ValueError if the value is not present.\n",
      " |\n",
      " |  insert(self, index, object, /)\n",
      " |      Insert object before index.\n",
      " |\n",
      " |  pop(self, index=-1, /)\n",
      " |      Remove and return item at index (default last).\n",
      " |\n",
      " |      Raises IndexError if list is empty or index is out of range.\n",
      " |\n",
      " |  remove(self, value, /)\n",
      " |      Remove first occurrence of value.\n",
      " |\n",
      " |      Raises ValueError if the value is not present.\n",
      " |\n",
      " |  reverse(self, /)\n",
      " |      Reverse *IN PLACE*.\n",
      " |\n",
      " |  sort(self, /, *, key=None, reverse=False)\n",
      " |      Sort the list in ascending order and return None.\n",
      " |\n",
      " |      The sort is in-place (i.e. the list itself is modified) and stable (i.e. the\n",
      " |      order of two equal elements is maintained).\n",
      " |\n",
      " |      If a key function is given, apply it once to each list item and sort them,\n",
      " |      ascending or descending, according to their function values.\n",
      " |\n",
      " |      The reverse flag can be set to sort in descending order.\n",
      " |\n",
      " |  ----------------------------------------------------------------------\n",
      " |  Class methods defined here:\n",
      " |\n",
      " |  __class_getitem__(...)\n",
      " |      See PEP 585\n",
      " |\n",
      " |  ----------------------------------------------------------------------\n",
      " |  Static methods defined here:\n",
      " |\n",
      " |  __new__(*args, **kwargs)\n",
      " |      Create and return a new object.  See help(type) for accurate signature.\n",
      " |\n",
      " |  ----------------------------------------------------------------------\n",
      " |  Data and other attributes defined here:\n",
      " |\n",
      " |  __hash__ = None\n",
      "\n"
     ]
    }
   ],
   "source": [
    "def sumNumbers(numbers):\n",
    "    '''list의 합'''\n",
    "    sum = 0\n",
    "    for n in numbers:\n",
    "        sum += n\n",
    "    return sum\n",
    "lst = [1,2,3,4]\n",
    "lst = sumNumbers(lst)\n",
    "\n",
    "help(sumNumbers)\n",
    "tup = 1,2,3\n",
    "help(tup) #iterable, immutable\n",
    "\n",
    "lst = [1,2,3]\n",
    "help(lst)"
   ]
  },
  {
   "cell_type": "code",
   "execution_count": 5,
   "metadata": {},
   "outputs": [
    {
     "name": "stdout",
     "output_type": "stream",
     "text": [
      "10\n"
     ]
    }
   ],
   "source": [
    "tup = 1,2,3,4\n",
    "n = sumNumbers(tup)\n",
    "print(n)"
   ]
  },
  {
   "cell_type": "code",
   "execution_count": 4,
   "metadata": {},
   "outputs": [
    {
     "name": "stdout",
     "output_type": "stream",
     "text": [
      "tuple = (1, 2, 3, 4)\n"
     ]
    }
   ],
   "source": [
    "print(f\"tuple = {tup}\")"
   ]
  },
  {
   "cell_type": "code",
   "execution_count": 6,
   "metadata": {},
   "outputs": [
    {
     "name": "stdout",
     "output_type": "stream",
     "text": [
      "동물타입 = dogs-vs-cats\n",
      "동물이름 = mydog\n",
      "동물타입 = dog\n",
      "동물이름 = dog1\n"
     ]
    }
   ],
   "source": [
    "def describe_pet(animal_type, animal_name = 'umme'):#non-default argument follows default argument// non default argument 가 먼저 나오면 오류, defalt argument 는 뒤로 뺴는게 좋음\n",
    "    '''동물 타입과 이름 함수'''\n",
    "    print(f\"동물타입 = {animal_type}\")\n",
    "    print(f\"동물이름 = {animal_name}\")\n",
    "    \n",
    "describe_pet('dogs-vs-cats', 'mydog')#positional argument 위치 순서대로 할당\n",
    "describe_pet(animal_name =\"dog1\", animal_type='dog')##keyword arguments를 많이 사용한다  순서와 상관없이 해당 변수에 할당"
   ]
  },
  {
   "cell_type": "markdown",
   "metadata": {},
   "source": [
    "함수 반환 값"
   ]
  },
  {
   "cell_type": "code",
   "execution_count": 11,
   "metadata": {},
   "outputs": [
    {
     "name": "stdout",
     "output_type": "stream",
     "text": [
      "x=1, y=2, z=3\n"
     ]
    }
   ],
   "source": [
    "def show_integer_string_list(lst, str='good', num = 11):\n",
    "    integer_value = num\n",
    "    string_value = str\n",
    "    list_value = lst\n",
    "    return  string_value,integer_value, list_value ## return의 순서대로 출력됨\n",
    "\n",
    "result = show_integer_string_list([1,2,3,4], 'nice')\n",
    "# print(a)  # 출력: (10, 'Hello', [1, 2, 3])\n",
    "# print(b)/\n",
    "# print(c) \n",
    "tup = (1,2,3)\n",
    "x,y,z = tup\n",
    "print(f\"x={x}, y={y}, z={z}\") ##unpacking 괄호를 떔 / 괄호를 붙이는건 packing "
   ]
  },
  {
   "cell_type": "code",
   "execution_count": 12,
   "metadata": {},
   "outputs": [
    {
     "name": "stdout",
     "output_type": "stream",
     "text": [
      "good\n",
      "11\n",
      "['a', 'b', 'c']\n",
      "a = nice\n",
      "b = 11\n",
      "c = [1, 2, 3, 4]\n"
     ]
    }
   ],
   "source": [
    "\n",
    "\n",
    "# 각 요소를 개별적으로 접근\n",
    "int_val, str_val, list_val = show_integer_string_list(['a','b','c'])\n",
    "print(int_val)  # 출력: 10\n",
    "print(str_val)  # 출력: Hello\n",
    "print(list_val) # 출력: [1, 2, 3]\n",
    "a,b,c = result #unpacking이라 한다.\n",
    "print(f\"a = {a}\")\n",
    "print(f\"b = {b}\")\n",
    "print(f\"c = {c}\")"
   ]
  },
  {
   "cell_type": "code",
   "execution_count": 14,
   "metadata": {},
   "outputs": [
    {
     "name": "stdout",
     "output_type": "stream",
     "text": [
      "d_a = {'name': 'Alice', 'age': 25, 'city': 'New York'}\n",
      "Name: Alice, Age: 25, City: New York\n",
      "Name: Bob, Age: 30, City: Los Angeles\n",
      "Name: Charlie, Age: 22, City: Chicago\n"
     ]
    }
   ],
   "source": [
    "def create_list_of_dictionaries():\n",
    "    return [\n",
    "        {'name': 'Alice', 'age': 25, 'city': 'New York'},\n",
    "        {'name': 'Bob', 'age': 30, 'city': 'Los Angeles'},\n",
    "        {'name': 'Charlie', 'age': 22, 'city': 'Chicago'}\n",
    "    ]\n",
    "\n",
    "# 함수 호출\n",
    "result = create_list_of_dictionaries()\n",
    "\n",
    "d_a, d_b, d_c = result #list의 unpacking\n",
    "print(f\"d_a = {d_a}\")\n",
    "# 리스트의 각 딕셔너리를 언패킹\n",
    "for person in result:\n",
    "    name, age, city = person['name'], person['age'], person['city']\n",
    "    print(f\"Name: {name}, Age: {age}, City: {city}\")"
   ]
  },
  {
   "cell_type": "code",
   "execution_count": 19,
   "metadata": {},
   "outputs": [
    {
     "name": "stdout",
     "output_type": "stream",
     "text": [
      "원래 딕셔너리={'name': 'Alice', 'age': 25, 'city': 'New York'}\n",
      "사본 딕셔너리={'name': 'Alice', 'age': 26, 'city': 'San Francisco'}\n"
     ]
    }
   ],
   "source": [
    "def modify_dictionary(person_info):#참조 변수 전달이다 \n",
    "    # 딕셔너리에 새로운 키-값 쌍 추가\n",
    "    person_info['age'] += 1  # 나이를 1살 증가\n",
    "    person_info['city'] = 'San Francisco'  # 도시를 'San Francisco'로 변경\n",
    "    return person_info\n",
    "\n",
    "# 원래 딕셔너리\n",
    "person = {'name': 'Alice', 'age': 25, 'city': 'New York'}\n",
    "\n",
    "# 함수 호출\n",
    "#modified_person = modify_dictionary(person)\n",
    "#print(modified_person)\n",
    "# 딕셔너리의 사본을 생성하여 함수 호출\n",
    "modified_person = modify_dictionary(person.copy())  # 또는 dict(person)<- \n",
    "#modified_person2 = modify_dictionary(dict(person))\n",
    "# 결과 출력\n",
    "\n",
    "print(f\"원래 딕셔너리={person}\")\n",
    "print(f\"사본 딕셔너리={modified_person}\")"
   ]
  },
  {
   "cell_type": "markdown",
   "metadata": {},
   "source": [
    "list() 함수는 파이썬에서 사용되는 내장 함수로, 주어진 반복 가능한(iterable) 객체를 리스트로 변환"
   ]
  },
  {
   "cell_type": "code",
   "execution_count": 20,
   "metadata": {},
   "outputs": [
    {
     "name": "stdout",
     "output_type": "stream",
     "text": [
      "[1, 2, 3]\n",
      "['h', 'e', 'l', 'l', 'o']\n",
      "[1, 2, 3]\n",
      "[0, 1, 2, 3, 4]\n"
     ]
    }
   ],
   "source": [
    "my_tuple = (1, 2, 3)\n",
    "my_list = list(my_tuple)\n",
    "print(my_list) \n",
    "\n",
    "my_string = \"hello\"\n",
    "my_list = list(my_string)\n",
    "print(my_list) \n",
    "\n",
    "my_set = {1, 2, 3}\n",
    "my_list = list(my_set)\n",
    "print(my_list) \n",
    "\n",
    "my_range = range(5)\n",
    "my_list = list(my_range)\n",
    "print(my_list) "
   ]
  },
  {
   "cell_type": "code",
   "execution_count": 23,
   "metadata": {},
   "outputs": [
    {
     "name": "stdout",
     "output_type": "stream",
     "text": [
      "person = ['홍길동', 25, '부산']\n",
      "p = ['홍길동', 99, '부산']\n",
      "원래 리스트: ['홍길동', 25, '부산']\n",
      "수정된 사본 리스트: ['홍길동', 26, '제주']\n"
     ]
    }
   ],
   "source": [
    "def modify_list(person_info):\n",
    "    # 리스트에 새로운 요소 추가\n",
    "    person_info[1] += 1  # 나이를 1살 증가 (인덱스 1에 해당)\n",
    "    person_info[2] = '제주'  # 도시를 변경 (인덱스 2에 해당)\n",
    "    return person_info\n",
    "\n",
    "# 원래 리스트\n",
    "person = ['홍길동', 25, '부산']\n",
    "p=person[:]\n",
    "p[1] = 99\n",
    "print(f\"person = {person}\")\n",
    "print(f\"p = {p}\")\n",
    "# 리스트의 사본을 생성하여 함수 호출\n",
    "#modified_person = modify_list(person.copy()) \n",
    "#modified_person = modify_list(person[:])### 자주 사용되므로 기억해야 한다 //사본을 만듬\n",
    "#modified_person = modify_list(person)\n",
    "#modified_person = modify_list(list(person)) ##person 리스트의 요소를 복사하여 새로운 리스트 객체를 생성\n",
    "# 결과 출력\n",
    "print(f\"원래 리스트: {person}\")\n",
    "print(f\"수정된 사본 리스트: {modified_person}\")"
   ]
  },
  {
   "cell_type": "markdown",
   "metadata": {},
   "source": [
    "파이썬 자료구조"
   ]
  },
  {
   "cell_type": "code",
   "execution_count": null,
   "metadata": {},
   "outputs": [],
   "source": [
    "import array\n",
    "my_array = array.array('i', [1, 2, 3])  # 'i'는 정수형\n",
    "\n",
    "from collections import deque\n",
    "my_deque = deque([1, 2, 3])\n",
    "\n",
    "from queue import PriorityQueue\n",
    "pq = PriorityQueue()\n",
    "pq.put((1, 'low priority'))\n",
    "pq.put((0, 'high priority'))\n",
    "\n"
   ]
  },
  {
   "cell_type": "markdown",
   "metadata": {},
   "source": [
    "클래스를 사용한 트리 구현"
   ]
  },
  {
   "cell_type": "code",
   "execution_count": null,
   "metadata": {},
   "outputs": [],
   "source": [
    "class Node:\n",
    "    def __init__(self, value):\n",
    "        self.value = value\n",
    "        self.left = None\n",
    "        self.right = None\n",
    "\n",
    "class BinaryTree:\n",
    "    def __init__(self):\n",
    "        self.root = None\n",
    "\n",
    "    def insert(self, value):\n",
    "        if self.root is None:\n",
    "            self.root = Node(value)\n",
    "        else:\n",
    "            self._insert_recursively(self.root, value)\n",
    "\n",
    "    def _insert_recursively(self, node, value):\n",
    "        if value < node.value:\n",
    "            if node.left is None:\n",
    "                node.left = Node(value)\n",
    "            else:\n",
    "                self._insert_recursively(node.left, value)\n",
    "        else:\n",
    "            if node.right is None:\n",
    "                node.right = Node(value)\n",
    "            else:\n",
    "                self._insert_recursively(node.right, value)\n",
    "\n",
    "    def inorder_traversal(self, node):\n",
    "        if node:\n",
    "            self.inorder_traversal(node.left)\n",
    "            print(node.value, end=' ')\n",
    "            self.inorder_traversal(node.right)\n",
    "\n",
    "# 사용 예\n",
    "tree = BinaryTree()\n",
    "tree.insert(5)\n",
    "tree.insert(3)\n",
    "tree.insert(7)\n",
    "tree.insert(2)\n",
    "\n",
    "print(\"In-order Traversal:\")\n",
    "tree.inorder_traversal(tree.root) "
   ]
  },
  {
   "cell_type": "markdown",
   "metadata": {},
   "source": [
    "파이썬에서 그래프(Graph)를 구현하는 일반적인 방법은 인접 리스트 (Adjacency List) 방식을 사용하는 것입니다. 이는 딕셔너리와 리스트를 조합하여 각 노드가 연결된 다른 노드들을 저장"
   ]
  },
  {
   "cell_type": "code",
   "execution_count": null,
   "metadata": {},
   "outputs": [],
   "source": [
    "class Graph:\n",
    "    def __init__(self):\n",
    "        # 딕셔너리를 사용하여 그래프를 구현\n",
    "        self.graph = {}\n",
    "\n",
    "    def add_node(self, node):\n",
    "        # 그래프에 노드를 추가\n",
    "        if node not in self.graph:\n",
    "            self.graph[node] = []\n",
    "\n",
    "    def add_edge(self, node1, node2):\n",
    "        # 양방향(무방향 그래프)의 간선 추가\n",
    "        if node1 in self.graph and node2 in self.graph:\n",
    "            self.graph[node1].append(node2)\n",
    "            self.graph[node2].append(node1)\n",
    "        else:\n",
    "            print(\"노드를 먼저 추가하세요.\")\n",
    "\n",
    "    def display_graph(self):\n",
    "        # 그래프를 출력\n",
    "        for node in self.graph:\n",
    "            print(f\"{node}: {self.graph[node]}\")\n",
    "\n",
    "# 그래프 생성\n",
    "g = Graph()\n",
    "\n",
    "# 노드 추가\n",
    "g.add_node('A')\n",
    "g.add_node('B')\n",
    "g.add_node('C')\n",
    "g.add_node('D')\n",
    "\n",
    "# 간선 추가\n",
    "g.add_edge('A', 'B')\n",
    "g.add_edge('A', 'C')\n",
    "g.add_edge('B', 'D')\n",
    "\n",
    "# 그래프 출력\n",
    "g.display_graph()"
   ]
  },
  {
   "cell_type": "markdown",
   "metadata": {},
   "source": [
    "함수에서 변경 가능한 객체: list, dictionary, set"
   ]
  },
  {
   "cell_type": "code",
   "execution_count": 25,
   "metadata": {},
   "outputs": [
    {
     "name": "stdout",
     "output_type": "stream",
     "text": [
      "hello\n",
      "helloworld\n"
     ]
    }
   ],
   "source": [
    "def modify_string(s):\n",
    "    #s = 'no' # 새로운 문자열을 생성하여 s에 할당\n",
    "    s = s + 'world'# # 새로운 문자열을 생성하여 s에 할당\n",
    "    #s[0] = 'a'## 문자열 자체를 변경하려고 시도 //오류 생김\n",
    "    return s\n",
    "\n",
    "st = \"hello\"\n",
    "st_new = modify_string(st)\n",
    "print(st)\n",
    "print(st_new)"
   ]
  },
  {
   "cell_type": "markdown",
   "metadata": {},
   "source": [
    " 인수를 여러개로 임의 전달하기 \n",
    " 파이썬에서 *args는 함수 내에서 **튜플(tuple)**로 처리"
   ]
  },
  {
   "cell_type": "code",
   "execution_count": 31,
   "metadata": {},
   "outputs": [
    {
     "name": "stdout",
     "output_type": "stream",
     "text": [
      "심볼 = test\n",
      "args의 타입: <class 'tuple'>\n",
      "args의 내용: (1, 2, 3, 'hello', [4, 5])\n",
      "일반 인수: 1\n",
      "일반 인수: 2\n",
      "일반 인수: 3\n",
      "일반 인수: hello\n",
      "리스트: [4, 5]\n"
     ]
    }
   ],
   "source": [
    "def example_function(smbl, *args):\n",
    "    print(f\"심볼 = {smbl}\")\n",
    "    print(f\"args의 타입: {type(args)}\")\n",
    "    print(f\"args의 내용: {args}\")\n",
    "    for arg in args:\n",
    "        if isinstance(arg, list):\n",
    "            print(f\"리스트: {arg}\")\n",
    "        else:\n",
    "            print(f\"일반 인수: {arg}\")\n",
    "\n",
    "# 여러 인수를 전달하여 호출\n",
    "example_function(\"test\", 1, 2, 3, 'hello', [4, 5])"
   ]
  },
  {
   "cell_type": "markdown",
   "metadata": {},
   "source": [
    "파이썬에서 임의의 키워드 인수를 처리하려면 **kwargs를 사용할 수 있습니다. 이 방식은 여러 개의 키워드 인수를 함수에 전달할 때 유용하며, 함수 내에서 이를 딕셔너리로 처리"
   ]
  },
  {
   "cell_type": "code",
   "execution_count": 32,
   "metadata": {},
   "outputs": [
    {
     "name": "stdout",
     "output_type": "stream",
     "text": [
      "name: Alice\n",
      "age: 25\n",
      "city: New York\n"
     ]
    }
   ],
   "source": [
    "def process_kwargs(**kwargs):##딕셔너리로 처리한다는 것을 기억해야 \n",
    "    for key, value in kwargs.items():\n",
    "        print(f\"{key}: {value}\")\n",
    "\n",
    "# 함수 호출 (여러 키워드 인수 전달)\n",
    "process_kwargs(name=\"Alice\", age=25, city=\"New York\")"
   ]
  },
  {
   "cell_type": "code",
   "execution_count": null,
   "metadata": {},
   "outputs": [],
   "source": [
    "def process_args_kwargs(*args, **kwargs):\n",
    "    print(\"위치 인수(args):\")\n",
    "    for arg in args:\n",
    "        print(arg)\n",
    "\n",
    "    print(\"\\n키워드 인수(kwargs):\")\n",
    "    for key, value in kwargs.items():\n",
    "        print(f\"{key}: {value}\")\n",
    "\n",
    "# 함수 호출\n",
    "process_args_kwargs(1, 2, 3, name=\"Alice\", age=25, city=\"New York\")"
   ]
  },
  {
   "cell_type": "code",
   "execution_count": 2,
   "metadata": {},
   "outputs": [
    {
     "name": "stdout",
     "output_type": "stream",
     "text": [
      "[0, 0, 0, 0, 0, 0, 0, 0, 0, 0]\n",
      "[0, 1, 3, 2, 6, 7, 5, 4, 12, 13]\n",
      "[0, 1, 2, 3, 5, 4, 7, 6, 10, 11]\n",
      "[0, 1, 2, 3, 4, 5, 6, 7, 9, 8]\n",
      "[0, 1, 2, 3, 4, 5, 6, 7, 8, 9]\n",
      "192\n"
     ]
    }
   ],
   "source": [
    "### p34, 파이썬 데이터 사이언스 핸드북``\n",
    "def sum_of_lists(N):\n",
    "    total = 0\n",
    "    for i in range(5):\n",
    "        L = [j ^ (j>>i) for j in range(N)] # ^는 XOR  연산자, >>는 bit shift 연산자 우측으로 \n",
    "        print(L)\n",
    "        total += sum(L)\n",
    "    return total\n",
    "\n",
    "print (sum_of_lists(10))"
   ]
  },
  {
   "cell_type": "code",
   "execution_count": 3,
   "metadata": {},
   "outputs": [
    {
     "name": "stdout",
     "output_type": "stream",
     "text": [
      "values = [3 5 7 6 4]\n",
      "[0.33333333 0.2        0.14285714 0.16666667 0.25      ]\n"
     ]
    }
   ],
   "source": [
    "#### p57, 파이썬 데이터 사이언스 핸드북\n",
    "import numpy as np\n",
    "def compute_reciprocals(values):\n",
    "    output = np.empty(len(values)) # numpy 배열을 생성하며, 길이는 values의 길이와 동일. empty는 배열을 초기화하지 않고 빈 메모리만 할당\n",
    "    for i in range(len(values)):\n",
    "        output[i] = 1.0/values[i]\n",
    "    return output\n",
    "\n",
    "values = np.random.randint(1,10,size=5)\n",
    "print(f\"values = {values}\")\n",
    "print(compute_reciprocals(values))\n"
   ]
  },
  {
   "cell_type": "code",
   "execution_count": 5,
   "metadata": {},
   "outputs": [
    {
     "name": "stdout",
     "output_type": "stream",
     "text": [
      "data = {'A': ['A0', 'A1', 'A2'], 'B': ['B0', 'B1', 'B2'], 'C': ['C0', 'C1', 'C2']}\n",
      "    A   B   C\n",
      "0  A0  B0  C0\n",
      "1  A1  B1  C1\n",
      "2  A2  B2  C2\n"
     ]
    }
   ],
   "source": [
    "#### p161, 파이썬 데이터 사이언스 핸드북\n",
    "import pandas as pd\n",
    "def make_df(cols, ind):\n",
    "    \"\"\"빠르게 DataFrame 생성\"\"\"\n",
    "    data ={c:[str(c) + str(i) for i in ind] for c in cols}\n",
    "    print(f\"data = {data}\")\n",
    "    return pd.DataFrame(data,ind) #딕셔너리를 사용하여 DataFrame을 생성, 딕셔너리, 각 키는 열 이름, 값은 해당 열의 값들, ind: DataFrame의 인덱스를 설정\n",
    "\n",
    "print(make_df('ABC',range(3)))"
   ]
  },
  {
   "cell_type": "code",
   "execution_count": 26,
   "metadata": {},
   "outputs": [
    {
     "name": "stdout",
     "output_type": "stream",
     "text": [
      "(70, 80, 90)\n",
      "(40, 50, 60)\n",
      "(25, 35, 45)\n"
     ]
    }
   ],
   "source": [
    "# 예시 2차원 행렬\n",
    "##(5,3) 행렬을 난수로 초기화 :  값 범위가 -1~ +1 까지 실수로 \n",
    "import random\n",
    "row, col = (5,3)\n",
    "matrix = [[random.randint(-1,1) for _ in range(col)] for _ in range(row)] \n",
    "\n",
    "\n",
    "def get_top_3_per_row(matrix):\n",
    "\n",
    "    return result \n",
    "# 각 열별로 최대값 3개를 뽑는 함수\n",
    "def get_top_3_per_column(matrix):\n",
    "    # 열 수를 구함\n",
    "    num_cols = len(matrix[0])\n",
    "    \n",
    "    # 결과 행렬을 저장할 리스트\n",
    "    result = []\n",
    "    \n",
    "    # 각 열별로 처리\n",
    "    for col_idx in range(num_cols):\n",
    "        # 해당 열의 값들을 모아서 리스트로 만듦\n",
    "        column_values = [row[col_idx] for row in matrix]\n",
    "        \n",
    "        # 내림차순으로 정렬\n",
    "        sorted_column = sorted(column_values, reverse=True)\n",
    "        \n",
    "        # 상위 3개 값 선택\n",
    "        top_3 = sorted_column[:3]\n",
    "        \n",
    "        # 결과에 추가 (열이 아닌 행으로 저장하기 위해 zip 사용)\n",
    "        result.append(top_3)\n",
    "    \n",
    "    # 열을 행으로 변환\n",
    "    return list(zip(*result))\n",
    "\n",
    "# 함수 호출\n",
    "result_top3_col = get_top_3_per_column(matrix)\n",
    "result_top3_row = get_top_3_per_row(matrix)\n",
    "# 결과 출력\n",
    "for row in result_matrix:\n",
    "    print(row)"
   ]
  },
  {
   "cell_type": "code",
   "execution_count": null,
   "metadata": {},
   "outputs": [],
   "source": [
    "pca = PCA(n_components=100, whiten=True, random_state=0)\n",
    "x,y = split()"
   ]
  },
  {
   "cell_type": "markdown",
   "metadata": {},
   "source": [
    "함수를 모듈에 저장하기"
   ]
  },
  {
   "cell_type": "code",
   "execution_count": null,
   "metadata": {},
   "outputs": [],
   "source": [
    "# list_utils.py\n",
    "\n",
    "def merge_lists(list1, list2):\n",
    "    \"\"\"두 개의 리스트를 병합하여 하나의 리스트로 반환합니다.\"\"\"\n",
    "    return list1 + list2\n",
    "\n",
    "def minus_lists(list1, list2):\n",
    "    \"\"\"list1에서 list2와 공통 요소를 제거한 리스트를 반환\"\"\"\n",
    "    return [item for item in list1 if item not in list2]\n"
   ]
  },
  {
   "cell_type": "code",
   "execution_count": 1,
   "metadata": {},
   "outputs": [
    {
     "name": "stdout",
     "output_type": "stream",
     "text": [
      "c:\\python 실습\n"
     ]
    }
   ],
   "source": [
    "import os\n",
    "print(os.getcwd())"
   ]
  },
  {
   "cell_type": "code",
   "execution_count": 3,
   "metadata": {},
   "outputs": [
    {
     "name": "stdout",
     "output_type": "stream",
     "text": [
      "[1, 2, 3, 4, 5, 6]\n"
     ]
    }
   ],
   "source": [
    "### ipynb 파일은 Restart 실행후 \n",
    "## import numpy as np\n",
    "import list_utils  # 파일 이름\n",
    "\n",
    "# 두 개의 리스트\n",
    "list1 = [1, 2, 3]\n",
    "list2 = [4, 5, 6]\n",
    "\n",
    "# 병합된 리스트 출력\n",
    "merged_list = list_utils.merge_lists(list1, list2)\n",
    "print(merged_list)"
   ]
  },
  {
   "cell_type": "code",
   "execution_count": 4,
   "metadata": {},
   "outputs": [
    {
     "name": "stdout",
     "output_type": "stream",
     "text": [
      "[1, 2, 3, 4, 5, 6]\n"
     ]
    }
   ],
   "source": [
    "### ipynb 파일은 Restart 실행후 \n",
    "import list_utils as lu # 파일 이름\n",
    "\n",
    "# 두 개의 리스트\n",
    "list1 = [1, 2, 3]\n",
    "list2 = [4, 5, 6]\n",
    "\n",
    "# 병합된 리스트 출력\n",
    "merged_list = lu.merge_lists(list1, list2)\n",
    "print(merged_list)"
   ]
  },
  {
   "cell_type": "code",
   "execution_count": 5,
   "metadata": {},
   "outputs": [
    {
     "name": "stdout",
     "output_type": "stream",
     "text": [
      "[1, 2, 3, 4, 5, 6]\n"
     ]
    }
   ],
   "source": [
    "### ipynb 파일은 Restart 실행후 \n",
    "from list_utils import merge_lists\n",
    "\n",
    "# 두 개의 리스트\n",
    "list1 = [1, 2, 3]\n",
    "list2 = [4, 5, 6]\n",
    "\n",
    "# 병합된 리스트 출력\n",
    "merged_list = merge_lists(list1, list2)\n",
    "print(merged_list)"
   ]
  },
  {
   "cell_type": "code",
   "execution_count": 6,
   "metadata": {},
   "outputs": [
    {
     "name": "stdout",
     "output_type": "stream",
     "text": [
      "[3]\n"
     ]
    }
   ],
   "source": [
    "### ipynb 파일은 Restart 실행후 \n",
    "from list_utils import minus_lists\n",
    "\n",
    "# 두 개의 리스트\n",
    "list1 = [1, 2, 3]\n",
    "list2 = [1,2, 5, 6]\n",
    "\n",
    "# 병합된 리스트 출력\n",
    "merged_list = minus_lists(list1, list2)\n",
    "print(merged_list)"
   ]
  },
  {
   "cell_type": "code",
   "execution_count": 7,
   "metadata": {},
   "outputs": [
    {
     "name": "stdout",
     "output_type": "stream",
     "text": [
      "[3]\n"
     ]
    }
   ],
   "source": [
    "### ipynb 파일은 Restart 실행후 \n",
    "from list_utils import minus_lists as ml\n",
    "\n",
    "# 두 개의 리스트\n",
    "list1 = [1, 2, 3]\n",
    "list2 = [1,2, 5, 6]\n",
    "\n",
    "# 병합된 리스트 출력\n",
    "merged_list = ml(list1, list2)\n",
    "print(merged_list)"
   ]
  }
 ],
 "metadata": {
  "kernelspec": {
   "display_name": "Python 3",
   "language": "python",
   "name": "python3"
  },
  "language_info": {
   "codemirror_mode": {
    "name": "ipython",
    "version": 3
   },
   "file_extension": ".py",
   "mimetype": "text/x-python",
   "name": "python",
   "nbconvert_exporter": "python",
   "pygments_lexer": "ipython3",
   "version": "3.12.6"
  }
 },
 "nbformat": 4,
 "nbformat_minor": 2
}
