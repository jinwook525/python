{
 "cells": [
  {
   "cell_type": "code",
   "execution_count": null,
   "metadata": {},
   "outputs": [],
   "source": [
    "# 리스트 복사하기 (얕은 복사)\n",
    "l = [1, 2, 3]\n",
    "la = l  # la는 l의 참조, 같은 메모리 주소를 가리킴\n",
    "lb = l[:]  # lb는 l의 복사본, 서로 다른 메모리 주소\n",
    "\n",
    "# 리스트에 값 추가하기\n",
    "l.append(4)\n",
    "\n",
    "print(\"원본 리스트 l:\", l)       # [1, 2, 3, 4]\n",
    "print(\"참조한 리스트 la:\", la)   # [1, 2, 3, 4] (la는 l과 동일한 참조)\n",
    "print(\"복사된 리스트 lb:\", lb)   # [1, 2, 3] (lb는 독립적인 리스트)\n",
    "\n",
    "# 튜플 (immutable)\n",
    "t = (1, 2, 3)\n",
    "# t[0] = 10  # 에러: 튜플은 불변(immutable)하기 때문에 요소를 변경할 수 없음\n",
    "\n",
    "print(\"\\n튜플 t:\", t)  # (1, 2, 3)\n",
    "\n",
    "# 슬라이싱 예제 - 리스트는 [::] 형식만 지원\n",
    "matrix = [[0, 1, 2], [3, 4, 5], [6, 7, 8]]\n",
    "\n",
    "# 리스트 슬라이싱 (정상)\n",
    "print(\"\\n리스트 슬라이싱:\")\n",
    "# 행을 역순으로 출력\n",
    "# 열을 역순으로 출력\n",
    "\n",
    "#print(matrix[:1, :1])을 구현하는 리스트 슬라이싱\n",
    "# 첫 번째 행에서 첫 번째 열만 슬라이싱 (== matrix[:1, :1])\n",
    "\n",
    "# 잘못된 슬라이싱 시도 - 튜플로 인식되는 경우\n",
    "try:\n",
    "    print(matrix[::-1,::-1])  # 잘못된 사용, TypeError 발생\n",
    "except TypeError as e:\n",
    "    print(\"\\n에러 발생:\", e)\n",
    "\n",
    "lst1 = [a,b] = [1,2]\n",
    "tpl1 = (c,d) = (3,4)\n",
    "lst1[0] = 5\n",
    "#tpl1[0] = 7\n",
    "print(lst1)\n",
    "print(type(lst1[0]))\n",
    "print(type(tpl1[0]))\n",
    "num = range(10)\n",
    "type(num)\n",
    "num\n",
    "\n",
    "import array ## 파이썬의 배열 \n",
    "my_array = array.array('i', [1, 2, 3])  # 'i'는 정수(int)를 의미\n",
    "# 1차원 배열을 리스트로 묶어서 2차원 배열처럼 사용\n",
    "row1 = array.array('i', [1, 2, 3])\n",
    "row2 = array.array('i', [4, 5, 6])\n",
    "row3 = array.array('i', [7, 8, 9])\n",
    "\n",
    "matrix = [row1, row2, row3]  # 리스트로 2차원 배열처럼 표현\n",
    "\n",
    "# 2차원 배열처럼 접근\n",
    "print(matrix[0])     # 첫 번째 행 출력: [1, 2, 3]\n",
    "print(matrix[1][1])  # 두 번째 행의 두 번째 값 출력: 5\n",
    "#matrix[:1,:2] ##  리스트 인덱스는 튜플 사용 안됨\n",
    "### tuple\n",
    "tup = 10,20,30,40\n",
    "#tup[0] = 11\n",
    "print(tup[0])\n",
    "\n",
    "a,b,c = 10,20,30\n",
    "a,b = 11,22\n",
    "a,b = b, a\n",
    "print(f\"a= {a}, b = {b}\")\n",
    "def test():\n",
    "    return 10,20,30\n",
    "\n",
    "x,y,z = test()\n",
    "\n",
    "l = [1, 2, 3]\n",
    "for i, v in enumerate(l):\n",
    "    print(f\"i: {i}, v: {v}\")\n"
   ]
  },
  {
   "cell_type": "markdown",
   "metadata": {},
   "source": [
    "실습과제4_1 2차원 행렬 난수 초기화 > 전치행렬 만들기 출력"
   ]
  },
  {
   "cell_type": "code",
   "execution_count": 2,
   "metadata": {},
   "outputs": [
    {
     "name": "stdout",
     "output_type": "stream",
     "text": [
      "원본 행렬:\n",
      "[53, 49, 94, 8, 86]\n",
      "[28, 96, 25, 10, 17]\n",
      "[70, 40, 1, 65, 76]\n",
      "\n",
      "전치 행렬:\n",
      "[53, 28, 70]\n",
      "[49, 96, 40]\n",
      "[94, 25, 1]\n",
      "[8, 10, 65]\n",
      "[86, 17, 76]\n"
     ]
    }
   ],
   "source": [
    "import random\n",
    "\n",
    "# (3, 5) 크기의 2차원 배열 생성: 3행 5열\n",
    "rows, cols = (3, 5)\n",
    "\n",
    "# 리스트 컴프리헨션과 range()를 사용하여 2차원 배열 만들기\n",
    "## 난수를 사용하여 2차원 배열 만들기\n",
    "matrix = [[random.randint(1, 100) for _ in range(cols)] for _ in range(rows)]\n",
    "\n",
    "# 원본 행렬 출력\n",
    "print(\"원본 행렬:\")\n",
    "for row in matrix:\n",
    "    print(row)\n",
    "\n",
    "# 전치 행렬 (행과 열을 뒤바꿈)\n",
    "transpose_matrix = [[matrix[j][i] for j in range(rows)] for i in range(cols)]\n",
    "\n",
    "# 전치 행렬 출력\n",
    "print(\"\\n전치 행렬:\")\n",
    "for row in transpose_matrix:\n",
    "    print(row)"
   ]
  },
  {
   "cell_type": "markdown",
   "metadata": {},
   "source": [
    "실습과제4_2 2차원 행렬의 행과 열을 모두 반전 시키기 > 행을 먼저 역순으로 만든 다음에 열도 역순으로 만든다 "
   ]
  },
  {
   "cell_type": "code",
   "execution_count": 3,
   "metadata": {},
   "outputs": [
    {
     "name": "stdout",
     "output_type": "stream",
     "text": [
      "\n",
      "행과 열이 모두 반전된 2차원 배열:\n",
      "[76, 65, 1, 40, 70]\n",
      "[17, 10, 25, 96, 28]\n",
      "[86, 8, 94, 49, 53]\n"
     ]
    }
   ],
   "source": [
    "# 행을 반전시키고, 각 행의 열도 반전시키기\n",
    "reversed_matrix = [row[::-1] for row in matrix[::-1]]\n",
    "\n",
    "print(\"\\n행과 열이 모두 반전된 2차원 배열:\")\n",
    "for row in reversed_matrix:\n",
    "    print(row)"
   ]
  },
  {
   "cell_type": "markdown",
   "metadata": {},
   "source": [
    "리스트에 대한 사본 만들기: 슬라이싱 > 함수 매개변수 전달시에 슬라이싱으로 만드는 사본을 전달 - 기억해야 한다 \n",
    "리스트 참조변수 공유: la = lst # 같은 list를 두개의 참조변수가 공유"
   ]
  },
  {
   "cell_type": "code",
   "execution_count": 2,
   "metadata": {},
   "outputs": [
    {
     "name": "stdout",
     "output_type": "stream",
     "text": [
      "[0, 11, 2, 3, 4, 5, 6, 7, 8, 9]\n",
      "[99, 8, 7, 6, 5, 4, 3, 2, 1, 0]\n",
      "[11, 11, 2, 3, 4, 5, 6, 7, 8, 9]\n"
     ]
    }
   ],
   "source": [
    "# 리스트[start:stop:step]\n",
    "# start: 시작 인덱스 (포함)\n",
    "# stop: 끝 인덱스 (포함되지 않음)\n",
    "# step: 인덱스 증가 값 (기본값은 1)\n",
    "numbers = [0, 1, 2, 3, 4, 5, 6, 7, 8, 9]\n",
    "# 리스트를 뒤집기\n",
    "reversed_list = numbers[::-1]##함수에 매개변수 전달시에 복사본 전달한다 \n",
    "numbers[1]=11\n",
    "print(numbers)\n",
    "reversed_list[0] = 99\n",
    "print(reversed_list) ##copy - deep copy\n",
    "\n",
    "numbers2 = numbers ##shallow copy\n",
    "numbers2[0] = 11\n",
    "print(numbers)"
   ]
  },
  {
   "cell_type": "markdown",
   "metadata": {},
   "source": [
    "실습과제4_3 2차원 행렬 난수 초기화 > 각 행의 최대값, 다음 최대값, 다다음 최대값을 뽑아 새로운 행렬에 저장한 다음에 출력"
   ]
  },
  {
   "cell_type": "code",
   "execution_count": 4,
   "metadata": {},
   "outputs": [
    {
     "name": "stdout",
     "output_type": "stream",
     "text": [
      "원본 행렬:\n",
      "[93, 87, 68, 88, 83, 51, 25]\n",
      "[78, 7, 23, 71, 21, 77, 52]\n",
      "[86, 29, 45, 40, 30, 54, 62]\n",
      "[67, 99, 35, 41, 68, 75, 28]\n",
      "[43, 15, 93, 24, 72, 100, 5]\n",
      "\n",
      "결과 행렬 (최대 값부터 3번째 큰 값까지):\n",
      "[93, 88, 87]\n",
      "[78, 77, 71]\n",
      "[86, 62, 54]\n",
      "[99, 75, 68]\n",
      "[100, 93, 72]\n"
     ]
    }
   ],
   "source": [
    "import random\n",
    "\n",
    "# 행렬의 크기 정의 (5x7 행렬)\n",
    "rows, cols = 5, 7\n",
    "\n",
    "# 2차원 행렬을 난수로 초기화\n",
    "matrix = [[random.randint(1, 100) for _ in range(cols)] for _ in range(rows)]\n",
    "\n",
    "\n",
    "# 행렬 출력\n",
    "print(\"원본 행렬:\")\n",
    "for row in matrix:\n",
    "    print(row)\n",
    "\n",
    "# 각 행에서 최대 값부터 3번째 큰 값까지 순서대로 행렬 만들기\n",
    "result_matrix = []\n",
    "\n",
    "for row in matrix:\n",
    "    # 행을 정렬하여 최대 값부터 작은 값으로 정렬\n",
    "    sorted_row = sorted(row, reverse=True)\n",
    "    \n",
    "    # 최대 값부터 3번째 큰 값까지 가져오기\n",
    "    top_3_values = sorted_row[:3]\n",
    "    \n",
    "    # 결과 행렬에 추가\n",
    "    result_matrix.append(top_3_values)\n",
    "\n",
    "# 결과 행렬 출력\n",
    "print(\"\\n결과 행렬 (최대 값부터 3번째 큰 값까지):\")\n",
    "for row in result_matrix:\n",
    "    print(row)\n"
   ]
  },
  {
   "cell_type": "markdown",
   "metadata": {},
   "source": [
    "실습과제4_5 2차원 행렬 난수 초기화 > 두 행렬의 덧셈 결과를 새로운 행렬을 만들어 저장 > 출력"
   ]
  },
  {
   "cell_type": "code",
   "execution_count": 7,
   "metadata": {},
   "outputs": [
    {
     "name": "stdout",
     "output_type": "stream",
     "text": [
      "첫 번째 행렬:\n",
      "[53, 18, 72, 20, 86, 49, 29]\n",
      "[18, 89, 10, 67, 71, 66, 81]\n",
      "[36, 77, 64, 40, 8, 94, 18]\n",
      "[11, 59, 71, 86, 77, 71, 97]\n",
      "[51, 69, 99, 19, 80, 18, 90]\n",
      "\n",
      "두 번째 행렬:\n",
      "[85, 21, 37, 35, 63, 13, 52]\n",
      "[7, 78, 87, 45, 72, 51, 89]\n",
      "[96, 90, 72, 62, 74, 93, 86]\n",
      "[16, 72, 80, 76, 97, 47, 16]\n",
      "[98, 87, 81, 62, 21, 7, 29]\n",
      "\n",
      "행렬 덧셈 결과:\n",
      "[138, 39, 109, 55, 149, 62, 81]\n",
      "[25, 167, 97, 112, 143, 117, 170]\n",
      "[132, 167, 136, 102, 82, 187, 104]\n",
      "[27, 131, 151, 162, 174, 118, 113]\n",
      "[149, 156, 180, 81, 101, 25, 119]\n"
     ]
    }
   ],
   "source": [
    "\n",
    "\n",
    "# 두 행렬 (5,7)을 난수를 사용하여 초기화\n",
    "matrix1 = [[random.randint(1, 100) for _ in range(cols)] for _ in range(rows)]\n",
    "matrix2 = [[random.randint(1, 100) for _ in range(cols)] for _ in range(rows)]\n",
    "\n",
    "# 결과를 저장할 행렬을 0으로 초기화\n",
    "result_add = [[0 for _ in range(cols)] for _ in range(rows)]\n",
    "\n",
    "# 원본 행렬 출력\n",
    "print(\"첫 번째 행렬:\")\n",
    "for row in matrix1:\n",
    "    print(row)\n",
    "\n",
    "print(\"\\n두 번째 행렬:\")\n",
    "for row in matrix2:\n",
    "    print(row)\n",
    "\n",
    "# 각 요소에 대해 더하기 연산 수행\n",
    "for i in range(rows):\n",
    "    for j in range(cols):\n",
    "        result_add[i][j] = matrix1[i][j] + matrix2[i][j]\n",
    "\n",
    "# 행렬 덧셈 결과 출력\n",
    "print(\"\\n행렬 덧셈 결과:\")\n",
    "for row in result_add:\n",
    "    print(row)"
   ]
  },
  {
   "cell_type": "markdown",
   "metadata": {},
   "source": [
    "실습과제4_6 2차원 행렬 난수 초기화 > 두 행렬의 곱셈 결과를 새로운 행렬을 만들어 저장 > 출력"
   ]
  },
  {
   "cell_type": "code",
   "execution_count": 6,
   "metadata": {},
   "outputs": [
    {
     "name": "stdout",
     "output_type": "stream",
     "text": [
      "첫 번째 행렬 (5x7):\n",
      "[76, 19, 79, 2, 88, 44, 73]\n",
      "[98, 45, 84, 32, 20, 27, 92]\n",
      "[64, 86, 39, 24, 100, 12, 81]\n",
      "[87, 54, 14, 66, 30, 25, 83]\n",
      "[100, 40, 36, 37, 13, 24, 71]\n",
      "\n",
      "두 번째 행렬 (7x9):\n",
      "[75, 51, 87, 67, 66, 47, 65, 91, 58]\n",
      "[58, 10, 46, 59, 92, 87, 60, 75, 53]\n",
      "[36, 14, 81, 83, 73, 29, 86, 51, 93]\n",
      "[39, 90, 3, 65, 13, 33, 22, 1, 26]\n",
      "[77, 8, 19, 38, 29, 23, 12, 90, 72]\n",
      "[33, 86, 30, 63, 46, 77, 75, 41, 15]\n",
      "[2, 68, 12, 75, 33, 12, 13, 49, 17]\n",
      "\n",
      "행렬 곱셈 결과 (5x9):\n",
      "[18098, 14804, 17759, 24491, 19542, 13870, 18223, 25673, 21051]\n",
      "[16847, 18242, 19790, 27634, 22014, 15656, 20459, 24024, 20122]\n",
      "[20386, 14170, 15987, 24790, 21420, 16609, 16355, 27748, 21278]\n",
      "[16036, 19147, 13701, 23407, 17349, 14982, 14865, 20539, 14872]\n",
      "[14494, 16330, 15386, 21784, 17213, 13444, 15689, 19606, 14733]\n"
     ]
    }
   ],
   "source": [
    "import random\n",
    "# 두 행렬의 곱셈\n",
    "# 행렬1 (5,7), 행렬2 (7,9)을 난수를 사용하여 초기화\n",
    "row1 , col1= 5,7\n",
    "matrix1 = [[random.randint(1, 100)for _ in range(col1)] for _ in range(row1)]\n",
    "\n",
    "row2, col2 = 7,9 \n",
    "matrix2 = [[random.randint(1, 100)for _ in range(col2)]for _ in range (row2)]\n",
    "\n",
    "# 결과를 저장할 행렬을 0으로 초기화\n",
    "result_multiply = [[0 for _ in range(col2)] for _ in range(row1)]\n",
    "\n",
    "print(\"첫 번째 행렬 (5x7):\")\n",
    "for row in matrix1:\n",
    "    print(row)\n",
    "\n",
    "print(\"\\n두 번째 행렬 (7x9):\")\n",
    "for row in matrix2:\n",
    "    print(row)\n",
    "# 각 요소에 대해 곱셈 연산 수행\n",
    "# 행렬 곱셈 연산 수행\n",
    "for i in range(row1):\n",
    "    for j in range(col2):\n",
    "        for k in range(col1): \n",
    "            result_multiply[i][j] += matrix1[i][k] * matrix2[k][j]\n",
    "\n",
    "# 행렬 곱셈 결과 출력\n",
    "print(\"\\n행렬 곱셈 결과 (5x9):\")\n",
    "for row in result_multiply:\n",
    "    print(row)"
   ]
  }
 ],
 "metadata": {
  "kernelspec": {
   "display_name": "Python 3",
   "language": "python",
   "name": "python3"
  },
  "language_info": {
   "codemirror_mode": {
    "name": "ipython",
    "version": 3
   },
   "file_extension": ".py",
   "mimetype": "text/x-python",
   "name": "python",
   "nbconvert_exporter": "python",
   "pygments_lexer": "ipython3",
   "version": "3.12.6"
  }
 },
 "nbformat": 4,
 "nbformat_minor": 2
}
